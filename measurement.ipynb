{
 "cells": [
  {
   "attachments": {},
   "cell_type": "markdown",
   "metadata": {},
   "source": [
    "# An example measurement using the ImpTube package\n",
    "\n",
    "This example shows a simple transfer-function impedance tube measurement."
   ]
  },
  {
   "attachments": {},
   "cell_type": "markdown",
   "metadata": {},
   "source": [
    "## Method 1: With use of `Sample` class\n",
    "includes saving to wav files automatically, interacts a lot with saved recordings"
   ]
  },
  {
   "cell_type": "code",
   "execution_count": null,
   "metadata": {},
   "outputs": [],
   "source": [
    "import imptube as imp\n",
    "\n",
    "tube = imp.Tube(\n",
    "    further_mic_dist=0.3,\n",
    "    closer_mic_dist=0.1,\n",
    "    freq_limit=1000)\n",
    "\n",
    "measurement = imp.Measurement(device=15)\n",
    "\n",
    "sample = imp.Sample(\"test1\",\n",
    "    temperature=29,\n",
    "    rel_humidity=30,\n",
    "    tube=tube)"
   ]
  },
  {
   "cell_type": "code",
   "execution_count": null,
   "metadata": {},
   "outputs": [],
   "source": [
    "imp.calibration(\n",
    "    sample=sample,\n",
    "    measurement=measurement\n",
    ")"
   ]
  },
  {
   "cell_type": "code",
   "execution_count": null,
   "metadata": {},
   "outputs": [],
   "source": [
    "imp.single_measurement(\n",
    "    sample=sample,\n",
    "    measurement=measurement,\n",
    "    depth=160\n",
    ")"
   ]
  },
  {
   "cell_type": "code",
   "execution_count": null,
   "metadata": {},
   "outputs": [],
   "source": [
    "alpha, f = imp.calculate_alpha(sample=sample)"
   ]
  },
  {
   "attachments": {},
   "cell_type": "markdown",
   "metadata": {},
   "source": [
    "## Method 2: Without the `Sample` class\n",
    "This method goes through the measurement procedure without saving any data."
   ]
  },
  {
   "cell_type": "code",
   "execution_count": null,
   "metadata": {},
   "outputs": [],
   "source": [
    "import imptube as imp\n",
    "\n",
    "temp = 29  # Temperature in degrees Celsius\n",
    "humidity = 30  # Humidity level in percentage\n",
    "atm_pressure = 101300  # Atmospheric pressure in Pascal\n",
    "\n",
    "tube = imp.Tube(\n",
    "    further_mic_dist=0.4,\n",
    "    closer_mic_dist=0.1,\n",
    "    freq_limit=1000\n",
    ")\n",
    "\n",
    "measurement = imp.Measurement(device=15)  # Create an instance of the Measurement class\n",
    "\n",
    "# Perform the configuration 1 measurement\n",
    "data, fs = measurement.measure(export=False, thd_filter=True)  \n",
    "p11, p12 = imp.stereo_to_spectra(data.T)\n",
    "freqs = imp.frequencies(p11, fs)\n",
    "\n",
    "input(\"Ready to measure in the second configuration?\") \n",
    "\n",
    "# Perform the configuration 2 measurement\n",
    "data, fs = measurement.measure(export=False, thd_filter=True)\n",
    "p21, p22 = imp.stereo_to_spectra(data.T)\n",
    "\n",
    "# Calculate the calibration factor based on the spectra\n",
    "cf = imp.calibration_factor(p11, p12, p21, p22)\n",
    "# Calculate the transfer function based on the spectra\n",
    "# of the first configuration\n",
    "tf = imp.transfer_function(p11, p12)  \n",
    "\n",
    "# Correct the transfer function using the calibration factor\n",
    "tf_corrected = tf / cf  \n",
    "tf_I, tf_R = imp.tf_i_r(temp, freqs, tube.mic_spacing)\n",
    "\n",
    "# Calculate the reflection factor, absorption coefficient and \n",
    "# surface impedance based on the transfer function and other parameters\n",
    "refl_factor = imp.reflection_factor(tf_I, tf_R, tf_corrected, temp, freqs, tube.closer_mic_dist)  \n",
    "\n",
    "absorption_coeff = imp.absorption_coefficient(refl_factor)\n",
    "\n",
    "surf_impedance = imp.surface_impedance(refl_factor, temp, atm_pressure)"
   ]
  },
  {
   "cell_type": "code",
   "execution_count": null,
   "metadata": {},
   "outputs": [],
   "source": [
    "import matplotlib.pyplot as plt\n",
    "plt.semilogx(freqs, absorption_coeff)\n",
    "plt.xlim([63,500])\n",
    "plt.ylim([0,1])"
   ]
  },
  {
   "cell_type": "code",
   "execution_count": null,
   "metadata": {},
   "outputs": [],
   "source": []
  }
 ],
 "metadata": {
  "kernelspec": {
   "display_name": "venv",
   "language": "python",
   "name": "python3"
  },
  "language_info": {
   "codemirror_mode": {
    "name": "ipython",
    "version": 3
   },
   "file_extension": ".py",
   "mimetype": "text/x-python",
   "name": "python",
   "nbconvert_exporter": "python",
   "pygments_lexer": "ipython3",
   "version": "3.9.17"
  },
  "orig_nbformat": 4
 },
 "nbformat": 4,
 "nbformat_minor": 2
}
