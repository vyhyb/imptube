{
 "cells": [
  {
   "attachments": {},
   "cell_type": "markdown",
   "metadata": {},
   "source": [
    "# An example measurement using the ImpTube package\n",
    "\n",
    "This example shows a simple transfer-function impedance tube measurement."
   ]
  },
  {
   "attachments": {},
   "cell_type": "markdown",
   "metadata": {},
   "source": [
    "## Method 1: With use of `Sample` class\n",
    "includes saving to wav files automatically, interacts a lot with saved recordings"
   ]
  },
  {
   "cell_type": "code",
   "execution_count": 1,
   "metadata": {},
   "outputs": [
    {
     "name": "stderr",
     "output_type": "stream",
     "text": [
      "/home/jund/Dokumenty/Python/imptube/processing/filters.py:103: ComplexWarning: Casting complex values to real discards the imaginary part\n",
      "  return np.asarray([pf_1_time, pf_2_time]).astype(np.float32)\n",
      "/home/jund/Dokumenty/Python/imptube/processing/files.py:20: WavFileWarning: Chunk (non-data) not understood, skipping it.\n",
      "  return wav.read(path)\n"
     ]
    },
    {
     "ename": "IndexError",
     "evalue": "list index out of range",
     "output_type": "error",
     "traceback": [
      "\u001b[0;31m---------------------------------------------------------------------------\u001b[0m",
      "\u001b[0;31mIndexError\u001b[0m                                Traceback (most recent call last)",
      "Cell \u001b[0;32mIn[1], line 21\u001b[0m\n\u001b[1;32m     10\u001b[0m sample \u001b[39m=\u001b[39m imp\u001b[39m.\u001b[39mSample(\u001b[39m\"\u001b[39m\u001b[39mtest1\u001b[39m\u001b[39m\"\u001b[39m,\n\u001b[1;32m     11\u001b[0m     temperature\u001b[39m=\u001b[39m\u001b[39m29\u001b[39m,\n\u001b[1;32m     12\u001b[0m     rel_humidity\u001b[39m=\u001b[39m\u001b[39m30\u001b[39m,\n\u001b[1;32m     13\u001b[0m     tube\u001b[39m=\u001b[39mtube)\n\u001b[1;32m     15\u001b[0m imp\u001b[39m.\u001b[39msingle_measurement(\n\u001b[1;32m     16\u001b[0m     sample\u001b[39m=\u001b[39msample,\n\u001b[1;32m     17\u001b[0m     measurement\u001b[39m=\u001b[39mmeasurement,\n\u001b[1;32m     18\u001b[0m     depth\u001b[39m=\u001b[39m\u001b[39m160\u001b[39m\n\u001b[1;32m     19\u001b[0m )\n\u001b[0;32m---> 21\u001b[0m alpha, f \u001b[39m=\u001b[39m imp\u001b[39m.\u001b[39;49mcalculate_alpha(sample\u001b[39m=\u001b[39;49msample)\n",
      "File \u001b[0;32m~/Dokumenty/Python/imptube/tube.py:383\u001b[0m, in \u001b[0;36mcalculate_alpha\u001b[0;34m(sample)\u001b[0m\n\u001b[1;32m    367\u001b[0m \u001b[39m\u001b[39m\u001b[39m\"\"\"Performs transfer function and alpha calculations from audio data\u001b[39;00m\n\u001b[1;32m    368\u001b[0m \u001b[39mfound in a valid folder structure.\u001b[39;00m\n\u001b[1;32m    369\u001b[0m \n\u001b[0;32m   (...)\u001b[0m\n\u001b[1;32m    380\u001b[0m \u001b[39m    frequency values for the alpha array\u001b[39;00m\n\u001b[1;32m    381\u001b[0m \u001b[39m\"\"\"\u001b[39;00m\n\u001b[1;32m    382\u001b[0m sample\u001b[39m.\u001b[39munique_d, sample\u001b[39m.\u001b[39mtfs \u001b[39m=\u001b[39m transfer_function_from_path(sample\u001b[39m.\u001b[39mtrees[\u001b[39m2\u001b[39m])\n\u001b[0;32m--> 383\u001b[0m sample\u001b[39m.\u001b[39malpha, sample\u001b[39m.\u001b[39mfreqs \u001b[39m=\u001b[39m alpha_from_path(sample\u001b[39m.\u001b[39;49mtrees[\u001b[39m2\u001b[39;49m], return_f\u001b[39m=\u001b[39;49m\u001b[39mTrue\u001b[39;49;00m)\n\u001b[1;32m    384\u001b[0m \u001b[39mreturn\u001b[39;00m sample\u001b[39m.\u001b[39malpha, sample\u001b[39m.\u001b[39mfreqs\n",
      "File \u001b[0;32m~/Dokumenty/Python/imptube/processing/files.py:174\u001b[0m, in \u001b[0;36malpha_from_path\u001b[0;34m(parent_folder, fs, cal, tfs, bc, return_f)\u001b[0m\n\u001b[1;32m    171\u001b[0m \u001b[39m# read calibration transfer function\u001b[39;00m\n\u001b[1;32m    172\u001b[0m \u001b[39mif\u001b[39;00m cal \u001b[39mis\u001b[39;00m \u001b[39mNone\u001b[39;00m:\n\u001b[1;32m    173\u001b[0m     tf_cal \u001b[39m=\u001b[39m np\u001b[39m.\u001b[39mload(\n\u001b[0;32m--> 174\u001b[0m         read_folder(\n\u001b[1;32m    175\u001b[0m             os\u001b[39m.\u001b[39;49mpath\u001b[39m.\u001b[39;49mjoin(\n\u001b[1;32m    176\u001b[0m                 parent_folder, \u001b[39m\"\u001b[39;49m\u001b[39mcalibration\u001b[39;49m\u001b[39m\"\u001b[39;49m, \u001b[39m\"\u001b[39;49m\u001b[39mcal_factor\u001b[39;49m\u001b[39m\"\u001b[39;49m\n\u001b[1;32m    177\u001b[0m             )\n\u001b[1;32m    178\u001b[0m         )[\u001b[39m0\u001b[39;49m]\n\u001b[1;32m    179\u001b[0m     )\n\u001b[1;32m    180\u001b[0m \u001b[39melse\u001b[39;00m:\n\u001b[1;32m    181\u001b[0m     tf_cal \u001b[39m=\u001b[39m cal\n",
      "\u001b[0;31mIndexError\u001b[0m: list index out of range"
     ]
    }
   ],
   "source": [
    "import imptube as imp\n",
    "\n",
    "tube = imp.Tube(\n",
    "    further_mic_dist=0.3,\n",
    "    closer_mic_dist=0.1,\n",
    "    freq_limit=1000)\n",
    "\n",
    "measurement = imp.Measurement(device=15)\n",
    "\n",
    "sample = imp.Sample(\"test1\",\n",
    "    temperature=29,\n",
    "    rel_humidity=30,\n",
    "    tube=tube)"
   ]
  },
  {
   "cell_type": "code",
   "execution_count": null,
   "metadata": {},
   "outputs": [],
   "source": [
    "imp.calibration(\n",
    "    sample=sample,\n",
    "    measurement=measurement\n",
    ")"
   ]
  },
  {
   "cell_type": "code",
   "execution_count": null,
   "metadata": {},
   "outputs": [],
   "source": [
    "imp.single_measurement(\n",
    "    sample=sample,\n",
    "    measurement=measurement,\n",
    "    depth=160\n",
    ")"
   ]
  },
  {
   "cell_type": "code",
   "execution_count": null,
   "metadata": {},
   "outputs": [],
   "source": [
    "alpha, f = imp.calculate_alpha(sample=sample)"
   ]
  },
  {
   "attachments": {},
   "cell_type": "markdown",
   "metadata": {},
   "source": [
    "## Method 2: Without the `Sample` class\n",
    "This method goes through the measurement procedure without saving any data."
   ]
  },
  {
   "cell_type": "code",
   "execution_count": 9,
   "metadata": {},
   "outputs": [
    {
     "name": "stderr",
     "output_type": "stream",
     "text": [
      "/home/jund/Dokumenty/Python/imptube/processing/filters.py:103: ComplexWarning: Casting complex values to real discards the imaginary part\n",
      "  return np.asarray([pf_1_time, pf_2_time]).astype(np.float32)\n"
     ]
    }
   ],
   "source": [
    "import imptube as imp\n",
    "\n",
    "temp = 29  # Temperature in degrees Celsius\n",
    "humidity = 30  # Humidity level in percentage\n",
    "atm_pressure = 101300  # Atmospheric pressure in Pascal\n",
    "\n",
    "tube = imp.Tube(\n",
    "    further_mic_dist=0.4,\n",
    "    closer_mic_dist=0.1,\n",
    "    freq_limit=1000\n",
    ")\n",
    "\n",
    "measurement = imp.Measurement(device=15)  # Create an instance of the Measurement class\n",
    "\n",
    "# Perform the configuration 1 measurement\n",
    "data, fs = measurement.measure(export=False, thd_filter=True)  \n",
    "p11, p12 = imp.stereo_to_spectra(data.T)\n",
    "freqs = imp.frequencies(p11, fs)\n",
    "\n",
    "input(\"Ready to measure in the second configuration?\") \n",
    "\n",
    "# Perform the configuration 2 measurement\n",
    "data, fs = measurement.measure(export=False, thd_filter=True)\n",
    "p21, p22 = imp.stereo_to_spectra(data.T)\n",
    "\n",
    "# Calculate the calibration factor based on the spectra\n",
    "cf = imp.calibration_factor(p11, p12, p21, p22)\n",
    "# Calculate the transfer function based on the spectra\n",
    "# of the first configuration\n",
    "tf = imp.transfer_function(p11, p12)  \n",
    "\n",
    "# Correct the transfer function using the calibration factor\n",
    "tf_corrected = tf / cf  \n",
    "tf_I, tf_R = imp.tf_i_r(temp, freqs, tube.mic_spacing)\n",
    "\n",
    "# Calculate the reflection factor, absorption coefficient and \n",
    "# surface impedance based on the transfer function and other parameters\n",
    "refl_factor = imp.reflection_factor(tf_I, tf_R, tf_corrected, temp, freqs, tube.closer_mic_dist)  \n",
    "\n",
    "absorption_coeff = imp.absorption_coefficient(refl_factor)\n",
    "\n",
    "surf_impedance = imp.surface_impedance(refl_factor, temp, atm_pressure)"
   ]
  },
  {
   "cell_type": "code",
   "execution_count": 10,
   "metadata": {},
   "outputs": [
    {
     "data": {
      "text/plain": [
       "(0.0, 1.0)"
      ]
     },
     "execution_count": 10,
     "metadata": {},
     "output_type": "execute_result"
    },
    {
     "data": {
      "image/png": "[encoded data removed]",
      "text/plain": [
       "<Figure size 640x480 with 1 Axes>"
      ]
     },
     "metadata": {},
     "output_type": "display_data"
    }
   ],
   "source": [
    "import matplotlib.pyplot as plt\n",
    "plt.semilogx(freqs, absorption_coeff)\n",
    "plt.xlim([63,500])\n",
    "plt.ylim([0,1])"
   ]
  },
  {
   "cell_type": "code",
   "execution_count": null,
   "metadata": {},
   "outputs": [],
   "source": []
  }
 ],
 "metadata": {
  "kernelspec": {
   "display_name": "venv",
   "language": "python",
   "name": "python3"
  },
  "language_info": {
   "codemirror_mode": {
    "name": "ipython",
    "version": 3
   },
   "file_extension": ".py",
   "mimetype": "text/x-python",
   "name": "python",
   "nbconvert_exporter": "python",
   "pygments_lexer": "ipython3",
   "version": "3.9.17"
  },
  "orig_nbformat": 4
 },
 "nbformat": 4,
 "nbformat_minor": 2
}
